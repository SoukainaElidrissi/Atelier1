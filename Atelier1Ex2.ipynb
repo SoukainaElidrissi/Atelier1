{
  "nbformat": 4,
  "nbformat_minor": 0,
  "metadata": {
    "colab": {
      "provenance": [],
      "authorship_tag": "ABX9TyPqtHSD6ZGRjZV+bREbhIfI",
      "include_colab_link": true
    },
    "kernelspec": {
      "name": "python3",
      "display_name": "Python 3"
    },
    "language_info": {
      "name": "python"
    }
  },
  "cells": [
    {
      "cell_type": "markdown",
      "metadata": {
        "id": "view-in-github",
        "colab_type": "text"
      },
      "source": [
        "<a href=\"https://colab.research.google.com/github/SoukainaElidrissi/Atelier1/blob/main/Atelier1Ex2.ipynb\" target=\"_parent\"><img src=\"https://colab.research.google.com/assets/colab-badge.svg\" alt=\"Open In Colab\"/></a>"
      ]
    },
    {
      "cell_type": "code",
      "execution_count": 7,
      "metadata": {
        "id": "fXRipLCBhyBi"
      },
      "outputs": [],
      "source": [
        "import pandas as pd\n",
        "from sklearn.preprocessing import LabelEncoder, MinMaxScaler\n",
        "import numpy as np\n",
        "import matplotlib.pyplot as plt\n",
        "import seaborn as sns\n",
        "from sklearn.model_selection import train_test_split\n",
        "from torch.utils.data import Dataset, DataLoader\n",
        "import torch\n",
        "from torch import Tensor\n",
        "from torch.utils.data import Dataset\n",
        "from torch.utils.data import DataLoader\n",
        "from torch.utils.data import random_split\n",
        "from torch.nn import Linear\n",
        "from torch.nn import ReLU\n",
        "from torch.nn import Softmax\n",
        "from torch.nn import Module\n",
        "from torch.optim import Adam\n",
        "from torch.nn import CrossEntropyLoss\n",
        "from torch.nn.init import kaiming_uniform_\n",
        "from torch.nn.init import xavier_uniform_\n",
        "from tqdm import tqdm\n",
        "from torch.nn import Dropout\n",
        "from numpy import argmax\n",
        "from numpy import vstack\n",
        "from sklearn.metrics import accuracy_score\n",
        "from sklearn.metrics import f1_score, recall_score"
      ]
    },
    {
      "cell_type": "code",
      "source": [
        "# #\n",
        "# Load the dataset\n",
        "df = pd.read_csv('/content/sample_data/predictive_maintenance.csv')\n",
        "\n",
        "# Select only numeric columns\n",
        "numeric_columns = df.select_dtypes(include=[np.number]).columns\n",
        "\n",
        "# Replace NaN values with the mean of the respective columns (numeric only)\n",
        "df[numeric_columns] = df[numeric_columns].fillna(df[numeric_columns].mean())\n",
        "\n",
        "# Encode categorical variables ('Product ID' and 'Type') using one-hot encoding\n",
        "df = pd.get_dummies(df, columns=['Product ID', 'Type'])\n",
        "\n",
        "# Label encode the 'Failure Type' column\n",
        "label_encoder = LabelEncoder()\n",
        "df['Failure Type'] = label_encoder.fit_transform(df['Failure Type'])\n",
        "\n",
        "# Normalize numerical features to a specific range (e.g., 0 to 1)\n",
        "numeric_features = ['Air temperature [K]', 'Process temperature [K]', 'Rotational speed [rpm]', 'Torque [Nm]', 'Tool wear [min]']\n",
        "scaler = MinMaxScaler()\n",
        "df[numeric_features] = scaler.fit_transform(df[numeric_features])\n",
        "#Display the preprocessed DataFrame\n",
        "#print(df)"
      ],
      "metadata": {
        "id": "i2fYokWKh4Gn"
      },
      "execution_count": 8,
      "outputs": []
    },
    {
      "cell_type": "code",
      "source": [
        "# Dataset definition\n",
        "class CSVDataset(Dataset):\n",
        "    # load the dataset\n",
        "    def __init__(self, dataframe):\n",
        "        # store the inputs and outputs\n",
        "        self.X = dataframe.drop(['Target', 'Failure Type'], axis=1).values.astype('float32')\n",
        "        self.y = dataframe['Failure Type'].values.astype('int64')  # Assuming Failure Type is integer-encoded\n",
        "#         self.y = LabelEncoder().fit_transform(self.y)\n",
        "\n",
        "    # number of rows in the dataset\n",
        "    def __len__(self):\n",
        "        return len(self.X)\n",
        "\n",
        "    # get a row at an index\n",
        "    def __getitem__(self, idx):\n",
        "        return [self.X[idx], self.y[idx]]\n",
        "\n",
        "    # get indexes for train and test rows\n",
        "    def get_splits(self, test_size=0.33):\n",
        "        X_train, X_test, y_train, y_test = train_test_split(self.X, self.y, test_size=test_size, random_state=42)\n",
        "        train = CSVDataset(pd.DataFrame(data=X_train, columns=df.columns[:-2], dtype='float32'))\n",
        "        test = CSVDataset(pd.DataFrame(data=X_test, columns=df.columns[:-2], dtype='float32'))\n",
        "        return train, test"
      ],
      "metadata": {
        "id": "Fh8ctCD_iB8X"
      },
      "execution_count": 3,
      "outputs": []
    },
    {
      "cell_type": "code",
      "source": [
        "print(df.describe())"
      ],
      "metadata": {
        "colab": {
          "base_uri": "https://localhost:8080/"
        },
        "id": "vzrIZoyIiET-",
        "outputId": "d0e7b36a-e707-4413-ea86-4f430467c74a"
      },
      "execution_count": 4,
      "outputs": [
        {
          "output_type": "stream",
          "name": "stdout",
          "text": [
            "               UDI  Air temperature [K]  Process temperature [K]  \\\n",
            "count  10000.00000         10000.000000             10000.000000   \n",
            "mean    5000.50000             0.511405                 0.531551   \n",
            "std     2886.89568             0.217419                 0.183177   \n",
            "min        1.00000             0.000000                 0.000000   \n",
            "25%     2500.75000             0.326087                 0.382716   \n",
            "50%     5000.50000             0.521739                 0.543210   \n",
            "75%     7500.25000             0.673913                 0.666667   \n",
            "max    10000.00000             1.000000                 1.000000   \n",
            "\n",
            "       Rotational speed [rpm]   Torque [Nm]  Tool wear [min]        Target  \\\n",
            "count            10000.000000  10000.000000     10000.000000  10000.000000   \n",
            "mean                 0.215818      0.497073         0.426684      0.033900   \n",
            "std                  0.104356      0.136936         0.251597      0.180981   \n",
            "min                  0.000000      0.000000         0.000000      0.000000   \n",
            "25%                  0.148428      0.403846         0.209486      0.000000   \n",
            "50%                  0.194994      0.498626         0.426877      0.000000   \n",
            "75%                  0.258440      0.590659         0.640316      0.000000   \n",
            "max                  1.000000      1.000000         1.000000      1.000000   \n",
            "\n",
            "       Failure Type  Product ID_H29424  Product ID_H29425  ...  \\\n",
            "count  10000.000000         10000.0000         10000.0000  ...   \n",
            "mean       1.039000             0.0001             0.0001  ...   \n",
            "std        0.379069             0.0100             0.0100  ...   \n",
            "min        0.000000             0.0000             0.0000  ...   \n",
            "25%        1.000000             0.0000             0.0000  ...   \n",
            "50%        1.000000             0.0000             0.0000  ...   \n",
            "75%        1.000000             0.0000             0.0000  ...   \n",
            "max        5.000000             1.0000             1.0000  ...   \n",
            "\n",
            "       Product ID_M24846  Product ID_M24847  Product ID_M24849  \\\n",
            "count         10000.0000         10000.0000         10000.0000   \n",
            "mean              0.0001             0.0001             0.0001   \n",
            "std               0.0100             0.0100             0.0100   \n",
            "min               0.0000             0.0000             0.0000   \n",
            "25%               0.0000             0.0000             0.0000   \n",
            "50%               0.0000             0.0000             0.0000   \n",
            "75%               0.0000             0.0000             0.0000   \n",
            "max               1.0000             1.0000             1.0000   \n",
            "\n",
            "       Product ID_M24851  Product ID_M24855  Product ID_M24857  \\\n",
            "count         10000.0000         10000.0000         10000.0000   \n",
            "mean              0.0001             0.0001             0.0001   \n",
            "std               0.0100             0.0100             0.0100   \n",
            "min               0.0000             0.0000             0.0000   \n",
            "25%               0.0000             0.0000             0.0000   \n",
            "50%               0.0000             0.0000             0.0000   \n",
            "75%               0.0000             0.0000             0.0000   \n",
            "max               1.0000             1.0000             1.0000   \n",
            "\n",
            "       Product ID_M24859        Type_H        Type_L        Type_M  \n",
            "count         10000.0000  10000.000000  10000.000000  10000.000000  \n",
            "mean              0.0001      0.100300      0.600000      0.299700  \n",
            "std               0.0100      0.300415      0.489922      0.458149  \n",
            "min               0.0000      0.000000      0.000000      0.000000  \n",
            "25%               0.0000      0.000000      0.000000      0.000000  \n",
            "50%               0.0000      0.000000      1.000000      0.000000  \n",
            "75%               0.0000      0.000000      1.000000      1.000000  \n",
            "max               1.0000      1.000000      1.000000      1.000000  \n",
            "\n",
            "[8 rows x 10011 columns]\n"
          ]
        }
      ]
    },
    {
      "cell_type": "code",
      "source": [
        "correlation_matrix = df[numeric_features].corr()\n",
        "\n",
        "# Heatmap de la matrice de corrélation\n",
        "\n",
        "plt.figure(figsize=(10, 8))\n",
        "sns.heatmap(correlation_matrix, annot=True, cmap='coolwarm', fmt=\".2f\")\n",
        "plt.show()\n",
        "\n",
        "# Diagrammes de dispersion pour quelques paires de variables\n",
        "sns.pairplot(df[numeric_features])\n",
        "#plt.show()"
      ],
      "metadata": {
        "id": "sxrpHpiQiHVf"
      },
      "execution_count": null,
      "outputs": []
    },
    {
      "cell_type": "code",
      "source": [
        "# Diagramme à barres pour la variable cible\n",
        "plt.figure(figsize=(8, 6))\n",
        "sns.countplot(x='Failure Type', data=df)\n",
        "plt.show()"
      ],
      "metadata": {
        "colab": {
          "base_uri": "https://localhost:8080/",
          "height": 542
        },
        "id": "3NyRsxuqiJ2v",
        "outputId": "e651e35c-db3c-4865-e441-bfd5f833b7d7"
      },
      "execution_count": 5,
      "outputs": [
        {
          "output_type": "display_data",
          "data": {
            "text/plain": [
              "<Figure size 800x600 with 1 Axes>"
            ],
            "image/png": "[encoded data removed]"
          },
          "metadata": {}
        }
      ]
    },
    {
      "cell_type": "code",
      "source": [
        "# DNN\n",
        "# model\n",
        "class MLP(Module):\n",
        "    # define model elements\n",
        "    def __init__(self, n_inputs):\n",
        "        super(MLP, self).__init__()\n",
        "        # input to first hidden layer\n",
        "        self.hidden1 = Linear(n_inputs, 10)\n",
        "        kaiming_uniform_(self.hidden1.weight, nonlinearity='relu')\n",
        "        self.act1 = ReLU()\n",
        "        self.dropout1 = Dropout(0.2)\n",
        "        # second hidden layer\n",
        "        self.hidden2 = Linear(10, 8)\n",
        "        kaiming_uniform_(self.hidden2.weight, nonlinearity='relu')\n",
        "        self.act2 = ReLU()\n",
        "        # third hidden layer and output\n",
        "        self.hidden3 = Linear(8, 3)\n",
        "        xavier_uniform_(self.hidden3.weight)\n",
        "        self.act3 = Softmax(dim=1)\n",
        "\n",
        "    # forward propagate input\n",
        "    def forward(self, X):\n",
        "        # input to first hidden layer\n",
        "        X = self.hidden1(X)\n",
        "        X = self.act1(X)\n",
        "        X = self.dropout1(X)\n",
        "        # second hidden layer\n",
        "        X = self.hidden2(X)\n",
        "        X = self.act2(X)\n",
        "        # output layer\n",
        "        X = self.hidden3(X)\n",
        "        X = self.act3(X)\n",
        "        return X"
      ],
      "metadata": {
        "id": "EhrjYQcaiM2F"
      },
      "execution_count": null,
      "outputs": []
    },
    {
      "cell_type": "code",
      "source": [
        "# prepare the dataset\n",
        "def prepare_data(df):\n",
        "\n",
        "\n",
        "    # Instantiate the dataset\n",
        "    dataset = CSVDataset(df)\n",
        "\n",
        "    # Split the dataset into train and test\n",
        "    train, test = dataset.get_splits()\n",
        "\n",
        "    # Create DataLoader for training and testing\n",
        "    train_loader = DataLoader(train, batch_size=512, shuffle=True)\n",
        "    test_loader = DataLoader(test, batch_size=512, shuffle=False)\n",
        "    return train_loader, test_loader"
      ],
      "metadata": {
        "id": "LUdie3URiQgw"
      },
      "execution_count": 6,
      "outputs": []
    },
    {
      "cell_type": "code",
      "source": [
        "number_epochs = 100\n",
        "learning_rate = 0.1\n",
        "loss_per_epoch = []\n",
        "loss_per_epoch_validation= []\n",
        "\n",
        "# #####\n",
        "# accuracy_per_epoch = []\n",
        "# accuracy_per_epoch_validation = []\n",
        "# #####\n",
        "# train the model\n",
        "def train_model(train_loader, model):\n",
        "    size = len(train_loader.dataset)\n",
        "    # define loss function MSE\n",
        "    criterion = CrossEntropyLoss()\n",
        "    # define the optimization ADAM\n",
        "    # regularization L2 = weight_decay #\n",
        "    optimizer =  Adam(model.parameters(), lr=learning_rate, weight_decay= 0.1 )\n",
        "    epoch = 0\n",
        "\n",
        "    # enumerate epochs\n",
        "    #while(average_loss >= desired_error): # accroding to loss function do epochs\n",
        "    for epoch in tqdm(range(number_epochs),desc='Training Epochs'):\n",
        "        print(f\"Epoch {epoch+1}\\n-------------------------------\") # enumerate mini batches\n",
        "        # training data\n",
        "        total_loss = 0.0\n",
        "        model.train()\n",
        "        TrainigStep_loss = []\n",
        "        for batch, (inputs, targets) in enumerate(train_loader):\n",
        "\n",
        "            # clear the gradients\n",
        "            optimizer.zero_grad()\n",
        "            # compute the model output\n",
        "            yhat = model(inputs)\n",
        "            #print(\"y befor\" , inputs)\n",
        "            # calculate loss\n",
        "            loss = criterion(yhat, targets)\n",
        "            # credit assignment\n",
        "            loss.backward()\n",
        "            # update model weights\n",
        "            optimizer.step()\n",
        "            TrainigStep_loss.append(loss.item())\n",
        "            #total_loss += loss.item()\n",
        "\n",
        "        #average_loss = total_loss / len(train_loader)\n",
        "        loss = np.array(TrainigStep_loss).mean()\n",
        "        loss_per_epoch.append(loss)\n",
        "        print(f\"loss: {loss:>7f}\")\n",
        "        #print(f\"Average loss :{average_loss:>7f}\" )\n",
        "\n",
        "        # test / validation data\n",
        "        model.eval()     # Optional when not using Model Specific layer\n",
        "        validationStep_loss = []\n",
        "        for batch, (inputs, targets) in enumerate(test_loader):\n",
        "\n",
        "            # Forward Pass\n",
        "            outputs = model(inputs)\n",
        "            # Find the Loss\n",
        "            validation_loss = criterion(outputs, targets)\n",
        "            # Calculate Loss\n",
        "            validationStep_loss.append(validation_loss.item())\n",
        "\n",
        "        loss_per_epoch_validation.append(np.array(validationStep_loss).mean())\n",
        "\n",
        "        # print training/validation statistics\n",
        "        # calculate average loss over an epoch\n",
        "        train_loss = np.average(TrainigStep_loss)\n",
        "        valid_loss = np.average(validationStep_loss)\n",
        "                # Inside the training loop\n",
        "#         # ...\n",
        "#         train_accuracy = evaluate_model(train_loader, model)\n",
        "#         validation_accuracy = evaluate_model(test_loader, model)\n",
        "#         accuracy_per_epoch.append(train_accuracy)\n",
        "#         accuracy_per_epoch_validation.append(validation_accuracy)\n",
        "#         # ...\n",
        "\n",
        "\n",
        "\n",
        "\n",
        ""
      ],
      "metadata": {
        "id": "z09ckJ08ig3j"
      },
      "execution_count": null,
      "outputs": []
    },
    {
      "cell_type": "code",
      "source": [
        "# evaluate the model\n",
        "def evaluate_model(test_loader, model):\n",
        "    predictions, actuals = list(), list()\n",
        "    for i, (inputs, targets) in enumerate(test_loader):\n",
        "        # evaluate the model on the test set\n",
        "        yhat = model(inputs)\n",
        "        # retrieve numpy array\n",
        "        yhat = yhat.detach().numpy()\n",
        "        actual = targets.numpy()\n",
        "        # convert to class labels\n",
        "        yhat = argmax(yhat, axis=1)\n",
        "        # reshape for stacking\n",
        "        actual = actual.reshape((len(actual), 1))\n",
        "        yhat = yhat.reshape((len(yhat), 1))\n",
        "        # store\n",
        "        predictions.append(yhat)\n",
        "        actuals.append(actual)\n",
        "#     predictions, actuals = vstack(predictions), vstack(actuals)\n",
        "    predictions, actuals = np.vstack(predictions), np.vstack(actuals)\n",
        "    # calculate accuracy\n",
        "    acc = accuracy_score(actuals, predictions)\n",
        "    f1 = f1_score(actuals, predictions, average='weighted')\n",
        "    sensitivity = recall_score(actuals, predictions, average='weighted')\n",
        "    return acc, f1, sensitivity\n",
        "# , f1"
      ],
      "metadata": {
        "id": "0yRxq0Hci8Yj"
      },
      "execution_count": null,
      "outputs": []
    },
    {
      "cell_type": "code",
      "source": [
        "# prepare the data\n",
        "train_loader, test_loader = prepare_data(df)\n",
        "print(len(train_loader.dataset), len(test_loader.dataset))\n",
        "# # define the network\n",
        "# model = MLP(5)\n",
        "# Modifier le modèle en fonction du nombre de caractéristiques dans votre ensemble de données\n",
        "num_features = len(train_loader.dataset[0][0])\n",
        "model = MLP(num_features)\n",
        "\n",
        "# train the model\n",
        "train_model(train_loader, model)"
      ],
      "metadata": {
        "id": "6uU6fbHti_4l"
      },
      "execution_count": null,
      "outputs": []
    },
    {
      "cell_type": "code",
      "source": [
        "import plotly.graph_objects as go\n",
        "\n",
        "# Assuming you have loss_per_epoch and loss_per_epoch_validation lists\n",
        "#loss_per_epoch = [0.5, 0.4, 0.3]  # Replace with your actual list\n",
        "#loss_per_epoch_validation = [0.6, 0.5, 0.4]  # Replace with your actual list\n",
        "\n",
        "# Create the figure\n",
        "fig = go.Figure()\n",
        "\n",
        "# Add training loss trace\n",
        "fig.add_trace(go.Scatter(x=list(range(len(loss_per_epoch))),\n",
        "                         y=loss_per_epoch,\n",
        "                         mode='lines',\n",
        "                         name='train'))\n",
        "\n",
        "# Add validation loss trace\n",
        "fig.add_trace(go.Scatter(x=list(range(len(loss_per_epoch_validation))),\n",
        "                         y=loss_per_epoch_validation,\n",
        "                         mode='lines',\n",
        "                         name='test'))\n",
        "\n",
        "# Add labels and title\n",
        "fig.update_layout(title='model loss',\n",
        "                  xaxis=dict(title='epoch'),\n",
        "                  yaxis=dict(title='loss'))\n",
        "\n",
        "# Show the figure\n",
        "fig.show()\n",
        "#fig.write_image(\"LOSS_DNN_(30,20,10,1).svg\")"
      ],
      "metadata": {
        "id": "V7a3LzPgjFLn"
      },
      "execution_count": null,
      "outputs": []
    },
    {
      "cell_type": "code",
      "source": [
        "# evaluate the model on the test set\n",
        "acc_test, f1_test, sensitivity_test = evaluate_model(test_loader, model)\n",
        "print(f'Test Accuracy: {acc_test:.3f}, Test F1 Score: {f1_test:.3f}, Test Sensitivity: {sensitivity_test:.3f}')\n",
        "\n",
        "# evaluate the model on the training set\n",
        "acc_train, f1_train, sensitivity_train = evaluate_model(train_loader, model)\n",
        "print(f'Training Accuracy: {acc_train:.3f}, Training F1 Score: {f1_train:.3f}, Training Sensitivity: {sensitivity_train:.3f}')"
      ],
      "metadata": {
        "id": "Kr2HLgRQjIWl"
      },
      "execution_count": null,
      "outputs": []
    },
    {
      "cell_type": "code",
      "source": [
        "# make a class prediction for one row of data\n",
        "def predict(row, model):\n",
        "    # convert row to data\n",
        "    row = Tensor([row])\n",
        "    # make prediction\n",
        "    yhat = model(row)\n",
        "    # retrieve numpy array\n",
        "    yhat = yhat.detach().numpy()\n",
        "    return yhat"
      ],
      "metadata": {
        "id": "GjQ6vqLKjPnv"
      },
      "execution_count": null,
      "outputs": []
    }
  ]
}